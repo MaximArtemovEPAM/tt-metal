{
 "cells": [
  {
   "cell_type": "markdown",
   "metadata": {},
   "source": [
    "# Tensor and Add Operation\n",
    "\n",
    "ttnn.Tensor is the central type of ttnn.\n",
    "\n",
    "It is similar to torch.Tensor in the sense that it represents multi-dimensional matrix containing elements of a single data type.\n",
    "\n",
    "The are a few key differences:\n",
    "\n",
    "- ttnn.Tensor can be stored in the SRAM or DRAM of Tenstorrent devices\n",
    "- ttnn.Tensor doesn't have a concept of the strides, however it has a concept of row-major and tile layout\n",
    "- ttnn.Tensor has support for data types not supported by torch such as `bfp8` for example\n",
    "- ttnn.Tensor's shape stores the padding added to the tensor due to TILE_LAYOUT"
   ]
  },
  {
   "cell_type": "markdown",
   "metadata": {},
   "source": [
    "## Creating a tensor\n",
    "\n",
    "The recommended way to create a tensor is by using torch create function and then simply calling `ttnn.from_torch`. So, let's import both `torch` and `ttnn`"
   ]
  },
  {
   "cell_type": "code",
   "execution_count": 1,
   "metadata": {
    "scrolled": true
   },
   "outputs": [
    {
     "name": "stderr",
     "output_type": "stream",
     "text": [
      "2025-06-26 04:07:07.973 | DEBUG    | ttnn:<module>:83 - Initial ttnn.CONFIG:\n",
      "Config{cache_path=/home/maxim_artemov/.cache/ttnn,model_cache_path=/home/maxim_artemov/.cache/ttnn/models,tmp_dir=/tmp/ttnn,enable_model_cache=false,enable_fast_runtime_mode=true,throw_exception_on_fallback=false,enable_logging=false,enable_graph_report=false,enable_detailed_buffer_report=false,enable_detailed_tensor_report=false,enable_comparison_mode=false,comparison_mode_should_raise_exception=false,comparison_mode_pcc=0.9999,root_report_path=generated/ttnn/reports,report_name=std::nullopt,std::nullopt}\n"
     ]
    }
   ],
   "source": [
    "import torch\n",
    "import ttnn"
   ]
  },
  {
   "cell_type": "code",
   "execution_count": 2,
   "metadata": {},
   "outputs": [],
   "source": [
    "import os\n"
   ]
  },
  {
   "cell_type": "markdown",
   "metadata": {},
   "source": [
    "And now let's create a torch Tensor and convert it to ttnn Tensor"
   ]
  },
  {
   "cell_type": "code",
   "execution_count": 3,
   "metadata": {},
   "outputs": [
    {
     "name": "stdout",
     "output_type": "stream",
     "text": [
      "shape: Shape([3, 4])\n",
      "layout: Layout.TILE\n",
      "dtype: DataType.BFLOAT16\n"
     ]
    }
   ],
   "source": [
    "ttnn_tensor = ttnn.rand((3, 4))\n",
    "\n",
    "print(f\"shape: {ttnn_tensor.shape}\")\n",
    "print(f\"layout: {ttnn_tensor.layout}\")\n",
    "print(f\"dtype: {ttnn_tensor.dtype}\")"
   ]
  },
  {
   "cell_type": "markdown",
   "metadata": {},
   "source": [
    "As expected we get a tensor of shape [3, 4] in row-major layout with a data type of float32."
   ]
  },
  {
   "cell_type": "markdown",
   "metadata": {},
   "source": [
    "## Host Storage: Borrowed vs Owned\n",
    "\n",
    "In this particular case, ttnn Tensor will borrow the data of the torch Tensor because ttnn Tensor is in row-major layout, torch tensor is contiguous and their data type matches.\n",
    "\n",
    "Let's print the current ttnn tensor, set element of torch tensor to 1234 and print the ttnn Tensor again to see borrowed storage in action"
   ]
  },
  {
   "cell_type": "code",
   "execution_count": 17,
   "metadata": {},
   "outputs": [
    {
     "name": "stdout",
     "output_type": "stream",
     "text": [
      "Original values:\n",
      "ttnn.Tensor([[ 0.87337,  0.57932,  0.70375,  0.55358],\n",
      "             [ 0.96836,  0.90015,  0.82169,  0.67716],\n",
      "             [ 0.77847,  0.00929,  0.08590,  0.63671]], shape=Shape([3, 4]), dtype=DataType::FLOAT32, layout=Layout::ROW_MAJOR)\n",
      "New values are all going to be 1234:\n",
      "ttnn.Tensor([[1234.00000, 1234.00000, 1234.00000, 1234.00000],\n",
      "             [1234.00000, 1234.00000, 1234.00000, 1234.00000],\n",
      "             [1234.00000, 1234.00000, 1234.00000, 1234.00000]], shape=Shape([3, 4]), dtype=DataType::FLOAT32, layout=Layout::ROW_MAJOR)\n"
     ]
    }
   ],
   "source": [
    "ttnn_tensor = ttnn.rand((3, 4), dtype=ttnn.float32)\n",
    "torch_tensor = ttnn.to_torch(ttnn_tensor, dtype=torch.float32)\n",
    "borrowed_ttnn_tensor = ttnn.from_torch(torch_tensor)\n",
    "print(f\"Original values:\\n{borrowed_ttnn_tensor}\")\n",
    "torch_tensor[:] = 1234\n",
    "print(f\"New values are all going to be 1234:\\n{borrowed_ttnn_tensor}\")"
   ]
  },
  {
   "cell_type": "markdown",
   "metadata": {},
   "source": [
    "We try our best to use borrowed storage but if the torch data type is not supported in ttnn, then we don't have a choice but to automatically pick a different data type and copy data"
   ]
  },
  {
   "cell_type": "code",
   "execution_count": 5,
   "metadata": {},
   "outputs": [
    {
     "name": "stdout",
     "output_type": "stream",
     "text": [
      "torch_tensor.dtype: torch.bfloat16\n",
      "ttnn_tensor.dtype: DataType.BFLOAT16\n",
      "Original values:\n",
      "ttnn.Tensor([[ 0.46094,  0.08301,  0.58984,  0.55859],\n",
      "             [ 0.12988,  0.55078,  0.22363,  0.16797],\n",
      "             [ 0.53125,  0.57031,  0.03247,  0.77344]], shape=Shape([3, 4]), dtype=DataType::BFLOAT16, layout=Layout::ROW_MAJOR)\n"
     ]
    }
   ],
   "source": [
    "torch_tensor = ttnn.to_torch(ttnn.rand((3, 4)))\n",
    "ttnn_tensor = ttnn.from_torch(torch_tensor)\n",
    "print(\"torch_tensor.dtype:\", torch_tensor.dtype)\n",
    "print(\"ttnn_tensor.dtype:\", ttnn_tensor.dtype)\n",
    "\n",
    "print(f\"Original values:\\n{ttnn_tensor}\")\n",
    "torch_tensor[0, 0] = 1234\n",
    "#print(f\"Original values again because the tensor doesn't use borrowed storage:\\n{ttnn_tensor}\")"
   ]
  },
  {
   "cell_type": "markdown",
   "metadata": {},
   "source": [
    "## Data Type\n",
    "\n",
    "The data type of the ttnn tensor can be controlled explicitly when conversion from torch."
   ]
  },
  {
   "cell_type": "code",
   "execution_count": 6,
   "metadata": {},
   "outputs": [
    {
     "name": "stdout",
     "output_type": "stream",
     "text": [
      "torch_tensor.dtype: torch.float32\n",
      "ttnn_tensor.dtype: DataType.BFLOAT16\n"
     ]
    }
   ],
   "source": [
    "torch_tensor = ttnn.to_torch(ttnn.rand((3, 4), dtype=ttnn.float32))\n",
    "ttnn_tensor = ttnn.from_torch(torch_tensor, dtype=ttnn.bfloat16)\n",
    "print(f\"torch_tensor.dtype: {torch_tensor.dtype}\")\n",
    "print(f\"ttnn_tensor.dtype: {ttnn_tensor.dtype}\")"
   ]
  },
  {
   "cell_type": "markdown",
   "metadata": {},
   "source": [
    "## Layout\n",
    "\n",
    "Tenstorrent hardware is most efficiently utilized when running tensors using [tile layout](https://tenstorrent.github.io/ttnn/latest/ttnn/tensor.html#layout).\n",
    "The current tile size is hard-coded to [32, 32]. It was determined to be the optimal size for a tile given the compute, memory and data transfer constraints.\n",
    "\n",
    "\n",
    "ttnn provides easy and intuitive way to convert from row-major layout to tile layout and back."
   ]
  },
  {
   "cell_type": "code",
   "execution_count": 7,
   "metadata": {},
   "outputs": [
    {
     "name": "stdout",
     "output_type": "stream",
     "text": [
      "Tensor in row-major layout:\n",
      "Shape Shape([3, 4])\n",
      "Layout: Layout.ROW_MAJOR\n",
      "ttnn.Tensor([[ 0.78125,  0.73828,  0.18359,  0.68750],\n",
      "             [ 0.87891,  0.50000,  0.29688,  0.76562],\n",
      "             [ 0.72656,  0.64844,  0.41797,  0.37891]], shape=Shape([3, 4]), dtype=DataType::BFLOAT16, layout=Layout::ROW_MAJOR)\n",
      "Tensor in tile layout:\n",
      "Shape Shape([3, 4])\n",
      "Layout: Layout.TILE\n",
      "ttnn.Tensor([[ 0.78125,  0.73828,  0.18359,  0.68750],\n",
      "             [ 0.87891,  0.50000,  0.29688,  0.76562],\n",
      "             [ 0.72656,  0.64844,  0.41797,  0.37891]], shape=Shape([3, 4]), dtype=DataType::BFLOAT16, layout=Layout::TILE)\n",
      "Tensor back in row-major layout:\n",
      "Shape Shape([3, 4])\n",
      "Layout: Layout.ROW_MAJOR\n",
      "ttnn.Tensor([[ 0.78125,  0.73828,  0.18359,  0.68750],\n",
      "             [ 0.87891,  0.50000,  0.29688,  0.76562],\n",
      "             [ 0.72656,  0.64844,  0.41797,  0.37891]], shape=Shape([3, 4]), dtype=DataType::BFLOAT16, layout=Layout::ROW_MAJOR)\n"
     ]
    }
   ],
   "source": [
    "ttnn_tensor = ttnn.rand((3, 4), layout=ttnn.ROW_MAJOR_LAYOUT)\n",
    "print(f\"Tensor in row-major layout:\\nShape {ttnn_tensor.shape}\\nLayout: {ttnn_tensor.layout}\\n{ttnn_tensor}\")\n",
    "ttnn_tensor = ttnn.to_layout(ttnn_tensor, ttnn.TILE_LAYOUT)\n",
    "print(f\"Tensor in tile layout:\\nShape {ttnn_tensor.shape}\\nLayout: {ttnn_tensor.layout}\\n{ttnn_tensor}\")\n",
    "ttnn_tensor = ttnn.to_layout(ttnn_tensor, ttnn.ROW_MAJOR_LAYOUT)\n",
    "print(f\"Tensor back in row-major layout:\\nShape {ttnn_tensor.shape}\\nLayout: {ttnn_tensor.layout}\\n{ttnn_tensor}\")"
   ]
  },
  {
   "cell_type": "markdown",
   "metadata": {},
   "source": [
    "Note that padding is automatically inserted to put the tensor into tile layout and it automatically removed after the tensor is converted back to row-major layout"
   ]
  },
  {
   "cell_type": "markdown",
   "metadata": {},
   "source": [
    "The conversion to tile layout can be done when caling `ttnn.from_torch`"
   ]
  },
  {
   "cell_type": "code",
   "execution_count": 8,
   "metadata": {},
   "outputs": [
    {
     "name": "stdout",
     "output_type": "stream",
     "text": [
      "Tensor in row-major layout:\n",
      "Shape Shape([3, 4]); Layout: Layout.ROW_MAJOR\n"
     ]
    }
   ],
   "source": [
    "torch_tensor = ttnn.to_torch(ttnn.rand((3, 4)))\n",
    "ttnn_tensor = ttnn.from_torch(torch_tensor)\n",
    "print(f\"Tensor in row-major layout:\\nShape {ttnn_tensor.shape}; Layout: {ttnn_tensor.layout}\")"
   ]
  },
  {
   "cell_type": "markdown",
   "metadata": {},
   "source": [
    "Note that `ttnn.to_torch` will always convert to row-major layout"
   ]
  },
  {
   "cell_type": "markdown",
   "metadata": {},
   "source": [
    "## Device storage\n",
    "\n",
    "Finally, in order to actually utilize the tensor, we need to put it on the device. So, that we can run `ttnn` operations on it"
   ]
  },
  {
   "cell_type": "markdown",
   "metadata": {},
   "source": [
    "## Open the device\n",
    "\n",
    "Use `ttnn.open` to get a handle to the device"
   ]
  },
  {
   "cell_type": "code",
   "execution_count": 9,
   "metadata": {},
   "outputs": [
    {
     "name": "stdout",
     "output_type": "stream",
     "text": [
      "[2025-06-26 04:07:08.438] [info] [pci_device.cpp:191] [SiliconDriver] Opened PCI device 0; KMD version: 2.0.0, IOMMU: disabled\n",
      "[2025-06-26 04:07:08.454] [info] [pci_device.cpp:191] [SiliconDriver] Opened PCI device 0; KMD version: 2.0.0, IOMMU: disabled\n",
      "[2025-06-26 04:07:08.462] [info] [tt_cluster.cpp:177] [Device] Opening user mode device driver\n",
      "[2025-06-26 04:07:08.462] [info] [pci_device.cpp:191] [SiliconDriver] Opened PCI device 0; KMD version: 2.0.0, IOMMU: disabled\n",
      "[2025-06-26 04:07:08.463] [info] [pci_device.cpp:191] [SiliconDriver] Opened PCI device 0; KMD version: 2.0.0, IOMMU: disabled\n",
      "[2025-06-26 04:07:08.467] [info] [pci_device.cpp:191] [SiliconDriver] Opened PCI device 0; KMD version: 2.0.0, IOMMU: disabled\n",
      "[2025-06-26 04:07:08.468] [info] [pci_device.cpp:191] [SiliconDriver] Opened PCI device 0; KMD version: 2.0.0, IOMMU: disabled\n",
      "[2025-06-26 04:07:08.472] [info] [cluster.cpp:277] [SiliconDriver] Harvesting mask for chip 0 is 0x40 (physical layout: 0x40, logical: 0x40, simulated harvesting mask: 0x0).\n",
      "[2025-06-26 04:07:08.503] [info] [pci_device.cpp:191] [SiliconDriver] Opened PCI device 0; KMD version: 2.0.0, IOMMU: disabled\n",
      "[2025-06-26 04:07:08.510] [info] [cluster.cpp:147] [SiliconDriver] Opening local chip ids/pci ids: {0}/[0] and remote chip ids {}\n",
      "[2025-06-26 04:07:08.514] [info] [cluster.cpp:1052] [SiliconDriver] Software version 6.0.0, Ethernet FW version 6.15.0 (Device 0)\n",
      "[2025-06-26 04:07:08.530] [info] [metal_context.cpp:72] [Metal] AI CLK for device 0 is:   1000 MHz\n",
      "[2025-06-26 04:07:08.793] [info] [device.cpp:1046] [Metal] Initializing device 0. Program cache is NOT enabled\n"
     ]
    }
   ],
   "source": [
    "device_id = 0\n",
    "device = ttnn.open_device(device_id=device_id)"
   ]
  },
  {
   "cell_type": "markdown",
   "metadata": {},
   "source": [
    "## Initialize tensors a and b with random values using torch\n",
    "\n",
    "Create a tensor that can be used by a `ttnn` operation with the `ttnn.TILE_LAYOUT` and put the tensor on the `device`"
   ]
  },
  {
   "cell_type": "code",
   "execution_count": 10,
   "metadata": {},
   "outputs": [],
   "source": [
    "input_tensor_a = ttnn.rand((32, 32), dtype=ttnn.bfloat16, layout=ttnn.TILE_LAYOUT, device=device)\n",
    "input_tensor_b = ttnn.rand((32, 32), dtype=ttnn.bfloat16, layout=ttnn.TILE_LAYOUT, device=device)"
   ]
  },
  {
   "cell_type": "markdown",
   "metadata": {},
   "source": [
    "## Add tensor a and b\n",
    "\n",
    "`ttnn` supports operator overloading, therefore operator `+` can be used instead of `torch.add`"
   ]
  },
  {
   "cell_type": "code",
   "execution_count": 11,
   "metadata": {},
   "outputs": [],
   "source": [
    "output_tensor = input_tensor_a + input_tensor_b"
   ]
  },
  {
   "cell_type": "markdown",
   "metadata": {},
   "source": [
    "## Inspect the output tensor of the add in ttnn\n",
    "\n",
    "As can be seen the tensor of the same shape, layout and dtype is produced"
   ]
  },
  {
   "cell_type": "code",
   "execution_count": 12,
   "metadata": {},
   "outputs": [
    {
     "name": "stdout",
     "output_type": "stream",
     "text": [
      "shape: Shape([32, 32])\n",
      "dtype: DataType.BFLOAT16\n",
      "layout: Layout.TILE\n"
     ]
    }
   ],
   "source": [
    "print(f\"shape: {output_tensor.shape}\")\n",
    "print(f\"dtype: {output_tensor.dtype}\")\n",
    "print(f\"layout: {output_tensor.layout}\")"
   ]
  },
  {
   "cell_type": "markdown",
   "metadata": {},
   "source": [
    "In general we expect layout and dtype to stay the same when running most operations unless explicit arguments to modify them are passed in. However, there are obvious exceptions like an embedding operation that takes in `ttnn.uint32` and produces `ttnn.bfloat16`"
   ]
  },
  {
   "cell_type": "markdown",
   "metadata": {},
   "source": [
    "## Convert to torch and inspect the attributes of the torch tensor\n",
    "\n",
    "When converting the tensor to torch, `ttnn.to_torch` will move the tensor from the device, convert to tile layout and figure out the best data type to use on the torch side"
   ]
  },
  {
   "cell_type": "code",
   "execution_count": 13,
   "metadata": {},
   "outputs": [
    {
     "name": "stdout",
     "output_type": "stream",
     "text": [
      "shape: torch.Size([32, 32])\n",
      "dtype: torch.bfloat16\n"
     ]
    }
   ],
   "source": [
    "output_tensor = ttnn.to_torch(output_tensor)\n",
    "print(f\"shape: {output_tensor.shape}\")\n",
    "print(f\"dtype: {output_tensor.dtype}\")"
   ]
  },
  {
   "cell_type": "markdown",
   "metadata": {},
   "source": [
    "## Close the device\n",
    "\n",
    "Close the handle the device. This is a very important step as the device can hang currently if not closed properly"
   ]
  },
  {
   "cell_type": "code",
   "execution_count": 14,
   "metadata": {},
   "outputs": [
    {
     "name": "stdout",
     "output_type": "stream",
     "text": [
      "[2025-06-26 04:07:10.224] [info] [device.cpp:1093] [Metal] Closing device 0\n",
      "[2025-06-26 04:07:10.224] [info] [device.cpp:1440] [Metal] Disabling and clearing program cache on device 0\n"
     ]
    }
   ],
   "source": [
    "ttnn.close_device(device)"
   ]
  }
 ],
 "metadata": {
  "kernelspec": {
   "display_name": "Python 3 (ipykernel)",
   "language": "python",
   "name": "python3"
  },
  "language_info": {
   "codemirror_mode": {
    "name": "ipython",
    "version": 3
   },
   "file_extension": ".py",
   "mimetype": "text/x-python",
   "name": "python",
   "nbconvert_exporter": "python",
   "pygments_lexer": "ipython3",
   "version": "3.10.12"
  }
 },
 "nbformat": 4,
 "nbformat_minor": 4
}
